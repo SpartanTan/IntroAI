{
 "cells": [
  {
   "cell_type": "code",
   "execution_count": 6,
   "metadata": {},
   "outputs": [
    {
     "data": {
      "image/png": "[encoded data removed]",
      "text/latex": [
       "$\\displaystyle e^{x} \\sin{\\left(x \\right)} + e^{x} \\cos{\\left(x \\right)}$"
      ],
      "text/plain": [
       " x           x       \n",
       "ℯ ⋅sin(x) + ℯ ⋅cos(x)"
      ]
     },
     "execution_count": 6,
     "metadata": {},
     "output_type": "execute_result"
    }
   ],
   "source": [
    "from sympy import *\n",
    "x, t, z, nu = symbols('x t z nu')\n",
    "init_printing(use_unicode = True)\n",
    "diff(sin(x)*exp(x),x)"
   ]
  },
  {
   "cell_type": "code",
   "execution_count": 37,
   "metadata": {},
   "outputs": [
    {
     "data": {
      "image/png": "[encoded data removed]",
      "text/latex": [
       "$\\displaystyle e^{x} \\sin{\\left(x \\right)}$"
      ],
      "text/plain": [
       " x       \n",
       "ℯ ⋅sin(x)"
      ]
     },
     "execution_count": 37,
     "metadata": {},
     "output_type": "execute_result"
    }
   ],
   "source": [
    "integrate(exp(x)*sin(x) + exp(x)*cos(x), x)"
   ]
  },
  {
   "cell_type": "code",
   "execution_count": 38,
   "metadata": {},
   "outputs": [
    {
     "data": {
      "image/png": "[encoded data removed]",
      "text/latex": [
       "$\\displaystyle 3$"
      ],
      "text/plain": [
       "3"
      ]
     },
     "execution_count": 38,
     "metadata": {},
     "output_type": "execute_result"
    }
   ],
   "source": [
    "x = symbols('x')\n",
    "expr = x + 1\n",
    "expr.subs(x,2)"
   ]
  },
  {
   "cell_type": "code",
   "execution_count": 15,
   "metadata": {},
   "outputs": [
    {
     "data": {
      "image/png": "[encoded data removed]",
      "text/latex": [
       "$\\displaystyle \\left(A \\vee C\\right) \\wedge \\left(B \\vee C\\right)$"
      ],
      "text/plain": [
       "(A ∨ C) ∧ (B ∨ C)"
      ]
     },
     "execution_count": 15,
     "metadata": {},
     "output_type": "execute_result"
    }
   ],
   "source": [
    "t = 'A&B|C'\n",
    "to_cnf(t)"
   ]
  },
  {
   "cell_type": "code",
   "execution_count": 2,
   "metadata": {},
   "outputs": [
    {
     "name": "stdout",
     "output_type": "stream",
     "text": [
      "clauses {F, A | C, P, D, B | C}\n",
      "clauses with ~a: [F, A | C, P, ~A, ~B, D, B | C]\n"
     ]
    }
   ],
   "source": [
    "from belief_base import *\n",
    "from entailment import *\n",
    "from sympy import to_cnf, simplify\n",
    "\n",
    "if __name__ == \"__main__\":\n",
    "    belief_base = BeliefBase()\n",
    "    b1=Belief(\"A&B|C\",0.5)\n",
    "    b2=Belief(\"D&F\",0.5)\n",
    "    b3=Belief(\"D&F&P\",0.4)\n",
    "    belief_base.add_belief(b1)\n",
    "    belief_base.add_belief(b2)\n",
    "    belief_base.add_belief(b3)\n",
    "    bp >> selief_base.display('clauses')\n",
    "\n",
    "    clauses = []\n",
    "    current_order = 0\n",
    "    # for belief in belief_base.BeliefBase:\n",
    "    #     for clause in conjuncts(belief):\n",
    "    #         print(Clause(clause, current_order))\n",
    "            \n",
    "    alpha = 'A|B'\n",
    "    beta = simplify('A&B')\n",
    "    # contradiction = to_cnf(~simplify(alpha), simplify=True)\n",
    "    # print('not alpha', contradiction)\n",
    "    # print(conjuncts(to_cnf(~simplify(alpha))))\n",
    "    # print(conjuncts(beta))\n",
    "    # print(disjuncts(alpha))\n",
    "    # for belief in belief_base.BeliefBase:\n",
    "    #     clauses.extend([Clause(clause, current_order) for clause in conjuncts(belief)])\n",
    "    # print(clauses)\n",
    "\n",
    "    # clauses.extend([Clause(clause, current_order) for clause in conjuncts(contradiction)])\n",
    "\n",
    "    belief_base.clauses.update(set(conjuncts(to_cnf(~simplify(alpha)))))\n",
    "    clauses = list(belief_base.clauses)\n",
    "    print('clauses with ~a:', clauses)\n",
    "    n = len(clauses)\n",
    "    pairs = [(clauses[i], clauses[j]) for i in range(n) for j in range(i+1, n)]\n",
    "    # for ci, cj in pairs:\n",
    "        # resolvents = pl_resolve(ci, cj)\n",
    "    # pl_resolution(belief_base, alpha)"
   ]
  },
  {
   "cell_type": "code",
   "execution_count": 33,
   "metadata": {},
   "outputs": [
    {
     "name": "stdout",
     "output_type": "stream",
     "text": [
      "(A | C, ~A)\n",
      "(A | C, B | C)\n",
      "A | C\n",
      "~A\n"
     ]
    }
   ],
   "source": [
    "# print(pairs)\n",
    "print(pairs[7])\n",
    "print(pairs[10])\n",
    "\n",
    "c1 = pairs[7][0]\n",
    "c2 = pairs[7][1]\n",
    "print(c1)\n",
    "print(c2)"
   ]
  },
  {
   "cell_type": "code",
   "execution_count": 29,
   "metadata": {},
   "outputs": [
    {
     "name": "stdout",
     "output_type": "stream",
     "text": [
      "A ~A\n"
     ]
    }
   ],
   "source": [
    "# for di in disjuncts(dc1):\n",
    "#     for dj in disjuncts(dc2):\n",
    "#         if di == ~dj:\n",
    "#             resolve_left = [for f in disjuncts(dc1) if f != dc1]\n",
    "#             print(di, dj)"
   ]
  },
  {
   "cell_type": "code",
   "execution_count": 62,
   "metadata": {},
   "outputs": [
    {
     "name": "stdout",
     "output_type": "stream",
     "text": [
      "Unexpected exception formatting exception. Falling back to standard exception\n"
     ]
    },
    {
     "name": "stderr",
     "output_type": "stream",
     "text": [
      "Traceback (most recent call last):\n",
      "  File \"/home/tzc/miniconda3/envs/IntroAI/lib/python3.8/site-packages/IPython/core/interactiveshell.py\", line 3369, in run_code\n",
      "    exec(code_obj, self.user_global_ns, self.user_ns)\n",
      "  File \"/tmp/ipykernel_2104618/117860300.py\", line 2, in <cell line: 2>\n",
      "    pl_resolve(c1, c2)\n",
      "  File \"/home/tzc/Documents/DTU/Semester_3/01280 Introduction to Artificial Intellengence/Assignment/MyAI/entailment.py\", line 84, in pl_resolve\n",
      "TypeError: append() takes exactly one argument (0 given)\n",
      "\n",
      "During handling of the above exception, another exception occurred:\n",
      "\n",
      "Traceback (most recent call last):\n",
      "  File \"/home/tzc/miniconda3/envs/IntroAI/lib/python3.8/site-packages/IPython/core/interactiveshell.py\", line 1982, in showtraceback\n",
      "    stb = self.InteractiveTB.structured_traceback(\n",
      "  File \"/home/tzc/miniconda3/envs/IntroAI/lib/python3.8/site-packages/IPython/core/ultratb.py\", line 1118, in structured_traceback\n",
      "    return FormattedTB.structured_traceback(\n",
      "  File \"/home/tzc/miniconda3/envs/IntroAI/lib/python3.8/site-packages/IPython/core/ultratb.py\", line 1012, in structured_traceback\n",
      "    return VerboseTB.structured_traceback(\n",
      "  File \"/home/tzc/miniconda3/envs/IntroAI/lib/python3.8/site-packages/IPython/core/ultratb.py\", line 865, in structured_traceback\n",
      "    formatted_exception = self.format_exception_as_a_whole(etype, evalue, etb, number_of_lines_of_context,\n",
      "  File \"/home/tzc/miniconda3/envs/IntroAI/lib/python3.8/site-packages/IPython/core/ultratb.py\", line 818, in format_exception_as_a_whole\n",
      "    frames.append(self.format_record(r))\n",
      "  File \"/home/tzc/miniconda3/envs/IntroAI/lib/python3.8/site-packages/IPython/core/ultratb.py\", line 736, in format_record\n",
      "    result += ''.join(_format_traceback_lines(frame_info.lines, Colors, self.has_colors, lvals))\n",
      "  File \"/home/tzc/miniconda3/envs/IntroAI/lib/python3.8/site-packages/stack_data/utils.py\", line 145, in cached_property_wrapper\n",
      "    value = obj.__dict__[self.func.__name__] = self.func(obj)\n",
      "  File \"/home/tzc/miniconda3/envs/IntroAI/lib/python3.8/site-packages/stack_data/core.py\", line 698, in lines\n",
      "    pieces = self.included_pieces\n",
      "  File \"/home/tzc/miniconda3/envs/IntroAI/lib/python3.8/site-packages/stack_data/utils.py\", line 145, in cached_property_wrapper\n",
      "    value = obj.__dict__[self.func.__name__] = self.func(obj)\n",
      "  File \"/home/tzc/miniconda3/envs/IntroAI/lib/python3.8/site-packages/stack_data/core.py\", line 649, in included_pieces\n",
      "    pos = scope_pieces.index(self.executing_piece)\n",
      "  File \"/home/tzc/miniconda3/envs/IntroAI/lib/python3.8/site-packages/stack_data/utils.py\", line 145, in cached_property_wrapper\n",
      "    value = obj.__dict__[self.func.__name__] = self.func(obj)\n",
      "  File \"/home/tzc/miniconda3/envs/IntroAI/lib/python3.8/site-packages/stack_data/core.py\", line 628, in executing_piece\n",
      "    return only(\n",
      "  File \"/home/tzc/miniconda3/envs/IntroAI/lib/python3.8/site-packages/executing/executing.py\", line 164, in only\n",
      "    raise NotOneValueFound('Expected one value, found 0')\n",
      "executing.executing.NotOneValueFound: Expected one value, found 0\n"
     ]
    }
   ],
   "source": [
    "from entailment import pl_resolve\n",
    "pl_resolve(c1, c2)"
   ]
  },
  {
   "cell_type": "code",
   "execution_count": 69,
   "metadata": {},
   "outputs": [
    {
     "data": {
      "text/latex": [
       "$\\displaystyle p \\vee s \\vee \\neg r$"
      ],
      "text/plain": [
       "p | s | ~r"
      ]
     },
     "execution_count": 69,
     "metadata": {},
     "output_type": "execute_result"
    }
   ],
   "source": [
    "from sympy.abc import p,q,s,r\n",
    "to_cnf(r >> (p|s))"
   ]
  }
 ],
 "metadata": {
  "interpreter": {
   "hash": "dc3f3d7ff825215d98078be05722dcc32666c5902da66ddd9499a4d57197b935"
  },
  "kernelspec": {
   "display_name": "Python 3.8.0 ('IntroAI')",
   "language": "python",
   "name": "python3"
  },
  "language_info": {
   "codemirror_mode": {
    "name": "ipython",
    "version": 3
   },
   "file_extension": ".py",
   "mimetype": "text/x-python",
   "name": "python",
   "nbconvert_exporter": "python",
   "pygments_lexer": "ipython3",
   "version": "3.8.13"
  },
  "orig_nbformat": 4
 },
 "nbformat": 4,
 "nbformat_minor": 2
}
